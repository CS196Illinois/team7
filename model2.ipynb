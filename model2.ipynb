{
  "nbformat": 4,
  "nbformat_minor": 0,
  "metadata": {
    "language_info": {
      "name": "python",
      "codemirror_mode": {
        "name": "ipython",
        "version": 3
      },
      "version": "3.8.0-beta"
    },
    "orig_nbformat": 2,
    "file_extension": ".py",
    "mimetype": "text/x-python",
    "name": "python",
    "npconvert_exporter": "python",
    "pygments_lexer": "ipython3",
    "version": 3,
    "kernelspec": {
      "name": "python3",
      "display_name": "Python 3"
    },
    "colab": {
      "name": "model2.ipynb",
      "provenance": []
    },
    "accelerator": "GPU"
  },
  "cells": [
    {
      "cell_type": "code",
      "metadata": {
        "id": "oMVIyJ9XGvEN",
        "colab_type": "code",
        "outputId": "2b138e23-f4a9-4ab6-d2a1-fcf12d294bb3",
        "colab": {
          "base_uri": "https://localhost:8080/",
          "height": 124
        }
      },
      "source": [
        "from google.colab import drive\n",
        "drive.mount('/content/drive')"
      ],
      "execution_count": 1,
      "outputs": [
        {
          "output_type": "stream",
          "text": [
            "Go to this URL in a browser: https://accounts.google.com/o/oauth2/auth?client_id=947318989803-6bn6qk8qdgf4n4g3pfee6491hc0brc4i.apps.googleusercontent.com&redirect_uri=urn%3aietf%3awg%3aoauth%3a2.0%3aoob&response_type=code&scope=email%20https%3a%2f%2fwww.googleapis.com%2fauth%2fdocs.test%20https%3a%2f%2fwww.googleapis.com%2fauth%2fdrive%20https%3a%2f%2fwww.googleapis.com%2fauth%2fdrive.photos.readonly%20https%3a%2f%2fwww.googleapis.com%2fauth%2fpeopleapi.readonly\n",
            "\n",
            "Enter your authorization code:\n",
            "··········\n",
            "Mounted at /content/drive\n"
          ],
          "name": "stdout"
        }
      ]
    },
    {
      "cell_type": "code",
      "metadata": {
        "id": "6RatCMq0GoPm",
        "colab_type": "code",
        "colab": {}
      },
      "source": [
        "from tensorflow.keras.preprocessing.image import ImageDataGenerator, array_to_img, img_to_array, load_img"
      ],
      "execution_count": 0,
      "outputs": []
    },
    {
      "cell_type": "code",
      "metadata": {
        "id": "Gd7b70h9GoPz",
        "colab_type": "code",
        "outputId": "bc3290cc-ecae-4483-b20b-da158021297d",
        "colab": {
          "base_uri": "https://localhost:8080/",
          "height": 725
        }
      },
      "source": [
        "from tensorflow.python.keras.applications.vgg16 import VGG16\n",
        "from tensorflow.python.keras.preprocessing import image\n",
        "from tensorflow.python.keras.applications.vgg16 import preprocess_input\n",
        "from tensorflow.python.keras.layers import Input, Flatten, Dense\n",
        "from tensorflow.python.keras.models import Model\n",
        "import numpy as np\n",
        "\n",
        "#Get back the convolutional part of a VGG network trained on ImageNet\n",
        "model_vgg16_conv = VGG16(weights='imagenet', include_top=False) # data_format = \"channels_first\"\n",
        "\n",
        "# Freeze the layers except the last 4 layers\n",
        "for layer in model_vgg16_conv.layers[:-4]:\n",
        "    layer.trainable = False\n",
        "\n",
        "# Check the trainable status of the individual layers\n",
        "for layer in model_vgg16_conv.layers:\n",
        "    print(layer, layer.trainable)\n",
        "\n",
        "#Create your own input format (here 3x200x200)\n",
        "input = Input(shape=(150,150,3),name = 'image_input')\n",
        "\n",
        "#Use the generated model \n",
        "output_vgg16_conv = model_vgg16_conv(input)\n",
        "\n",
        "#Add the fully-connected layers \n",
        "x = Flatten(name='flatten')(output_vgg16_conv)\n",
        "x = Dense(4096, activation='relu', name='fc1')(x)\n",
        "x = Dense(1024, activation='relu', name='fc2')(x)\n",
        "x = Dense(1, activation='linear', name='pred')(x)\n",
        "\n",
        "#Create your own model \n",
        "my_model = Model(input, x)\n",
        "\n",
        "#In the summary, weights and layers from VGG part will be hidden, but they will be fit during the training\n",
        "\n",
        "my_model.compile(loss='mse',\n",
        "              optimizer='adam',\n",
        "              metrics=['mse'])\n",
        "my_model.summary()"
      ],
      "execution_count": 3,
      "outputs": [
        {
          "output_type": "stream",
          "text": [
            "Downloading data from https://storage.googleapis.com/tensorflow/keras-applications/vgg16/vgg16_weights_tf_dim_ordering_tf_kernels_notop.h5\n",
            "58892288/58889256 [==============================] - 1s 0us/step\n",
            "<tensorflow.python.keras.engine.input_layer.InputLayer object at 0x7f0fc9af0940> False\n",
            "<tensorflow.python.keras.layers.convolutional.Conv2D object at 0x7f0fc9ae8eb8> False\n",
            "<tensorflow.python.keras.layers.convolutional.Conv2D object at 0x7f0fc9a997b8> False\n",
            "<tensorflow.python.keras.layers.pooling.MaxPooling2D object at 0x7f0fc925b9b0> False\n",
            "<tensorflow.python.keras.layers.convolutional.Conv2D object at 0x7f0fc925b828> False\n",
            "<tensorflow.python.keras.layers.convolutional.Conv2D object at 0x7f0fc926d898> False\n",
            "<tensorflow.python.keras.layers.pooling.MaxPooling2D object at 0x7f0fc92742b0> False\n",
            "<tensorflow.python.keras.layers.convolutional.Conv2D object at 0x7f0fc9274ba8> False\n",
            "<tensorflow.python.keras.layers.convolutional.Conv2D object at 0x7f0fc927eeb8> False\n",
            "<tensorflow.python.keras.layers.convolutional.Conv2D object at 0x7f0fc0440470> False\n",
            "<tensorflow.python.keras.layers.pooling.MaxPooling2D object at 0x7f0fc04454a8> False\n",
            "<tensorflow.python.keras.layers.convolutional.Conv2D object at 0x7f0fc0450dd8> False\n",
            "<tensorflow.python.keras.layers.convolutional.Conv2D object at 0x7f0fc0450fd0> False\n",
            "<tensorflow.python.keras.layers.convolutional.Conv2D object at 0x7f0fc045b358> False\n",
            "<tensorflow.python.keras.layers.pooling.MaxPooling2D object at 0x7f0fc045b828> False\n",
            "<tensorflow.python.keras.layers.convolutional.Conv2D object at 0x7f0fc0461128> True\n",
            "<tensorflow.python.keras.layers.convolutional.Conv2D object at 0x7f0fc0468470> True\n",
            "<tensorflow.python.keras.layers.convolutional.Conv2D object at 0x7f0fc0475630> True\n",
            "<tensorflow.python.keras.layers.pooling.MaxPooling2D object at 0x7f0fc03fb550> True\n",
            "Model: \"model\"\n",
            "_________________________________________________________________\n",
            "Layer (type)                 Output Shape              Param #   \n",
            "=================================================================\n",
            "image_input (InputLayer)     [(None, 150, 150, 3)]     0         \n",
            "_________________________________________________________________\n",
            "vgg16 (Model)                multiple                  14714688  \n",
            "_________________________________________________________________\n",
            "flatten (Flatten)            (None, 8192)              0         \n",
            "_________________________________________________________________\n",
            "fc1 (Dense)                  (None, 4096)              33558528  \n",
            "_________________________________________________________________\n",
            "fc2 (Dense)                  (None, 1024)              4195328   \n",
            "_________________________________________________________________\n",
            "pred (Dense)                 (None, 1)                 1025      \n",
            "=================================================================\n",
            "Total params: 52,469,569\n",
            "Trainable params: 44,834,305\n",
            "Non-trainable params: 7,635,264\n",
            "_________________________________________________________________\n"
          ],
          "name": "stdout"
        }
      ]
    },
    {
      "cell_type": "code",
      "metadata": {
        "id": "HbQyKuFJGoP7",
        "colab_type": "code",
        "colab": {}
      },
      "source": [
        "# load data into dataframe with 'path' and 'target' columns\n",
        "import pandas as pd\n",
        "train_label_df = pd.read_csv('/content/drive/My Drive/team7/data.csv', delimiter=' ', header=1, names=[\"uid\"])\n",
        "train_label_df[\"path\"] = train_label_df['uid'].apply(lambda x : '/content/drive/My Drive/team7/data/' + x.split(',')[-1][1:].split('/')[-1])\n",
        "train_label_df[\"target\"] = train_label_df['uid'].apply(lambda x : int(x.split(',')[1])/int(x.split(',')[2]))\n",
        "train_label_df =train_label_df.drop(['uid'], axis=1)\n",
        "\n",
        "train_label_df2 = pd.read_csv('/content/drive/My Drive/team7/data_temp.csv', delimiter=' ', header=1, names=[\"uid\"])\n",
        "train_label_df2[\"path\"] = train_label_df2['uid'].apply(lambda x : \"/content/drive/My Drive/team7/data/\" + x.split(',')[0] + \".jpg\")\n",
        "train_label_df2[\"target\"] = train_label_df2['uid'].apply(lambda x : int(x.split(',')[1])/int(x.split(',')[3]))\n",
        "train_label_df2 =train_label_df2.drop(['uid'], axis=1)\n",
        "#uid,likes,comments,followers\n",
        "#B-A-bW9l1Gm,601,43,6715"
      ],
      "execution_count": 0,
      "outputs": []
    },
    {
      "cell_type": "code",
      "metadata": {
        "id": "4dVQCsyNGoQD",
        "colab_type": "code",
        "colab": {}
      },
      "source": [
        "train_df = pd.concat([train_label_df, train_label_df2], axis=0).reset_index().drop(['index'], axis=1)"
      ],
      "execution_count": 0,
      "outputs": []
    },
    {
      "cell_type": "code",
      "metadata": {
        "id": "6ov4f7dpGoQI",
        "colab_type": "code",
        "colab": {}
      },
      "source": [
        "from os import listdir\n",
        "from os.path import isfile, join\n",
        "onlyfiles = [f for f in listdir('/content/drive/My Drive/team7/data/') if isfile(join('/content/drive/My Drive/team7/data/', f))]"
      ],
      "execution_count": 0,
      "outputs": []
    },
    {
      "cell_type": "code",
      "metadata": {
        "id": "xywK2lf1GoQP",
        "colab_type": "code",
        "outputId": "06175f5c-aa2e-42b8-f088-f7c2cd7ead03",
        "colab": {
          "base_uri": "https://localhost:8080/",
          "height": 407
        }
      },
      "source": [
        "new_df = train_df\n",
        "j = 0\n",
        "for i in train_df['path']:\n",
        "    #print(i.split(\"/\")[-1])\n",
        "    if i.split(\"/\")[-1] not in onlyfiles:\n",
        "        new_df = new_df.drop(train_df.index[train_df['path'] == i].tolist())\n",
        "    else:\n",
        "      j+=1\n",
        "train_df = new_df.reset_index().drop(['index'], axis=1)\n",
        "# All are found\n",
        "train_df"
      ],
      "execution_count": 7,
      "outputs": [
        {
          "output_type": "execute_result",
          "data": {
            "text/html": [
              "<div>\n",
              "<style scoped>\n",
              "    .dataframe tbody tr th:only-of-type {\n",
              "        vertical-align: middle;\n",
              "    }\n",
              "\n",
              "    .dataframe tbody tr th {\n",
              "        vertical-align: top;\n",
              "    }\n",
              "\n",
              "    .dataframe thead th {\n",
              "        text-align: right;\n",
              "    }\n",
              "</style>\n",
              "<table border=\"1\" class=\"dataframe\">\n",
              "  <thead>\n",
              "    <tr style=\"text-align: right;\">\n",
              "      <th></th>\n",
              "      <th>path</th>\n",
              "      <th>target</th>\n",
              "    </tr>\n",
              "  </thead>\n",
              "  <tbody>\n",
              "    <tr>\n",
              "      <th>0</th>\n",
              "      <td>/content/drive/My Drive/team7/data/B9dZzI1n-EV...</td>\n",
              "      <td>0.112025</td>\n",
              "    </tr>\n",
              "    <tr>\n",
              "      <th>1</th>\n",
              "      <td>/content/drive/My Drive/team7/data/B9cQMfVnkMe...</td>\n",
              "      <td>0.638448</td>\n",
              "    </tr>\n",
              "    <tr>\n",
              "      <th>2</th>\n",
              "      <td>/content/drive/My Drive/team7/data/B9a0IQWnY9M...</td>\n",
              "      <td>0.053981</td>\n",
              "    </tr>\n",
              "    <tr>\n",
              "      <th>3</th>\n",
              "      <td>/content/drive/My Drive/team7/data/B9NnTUrHoNX...</td>\n",
              "      <td>0.143885</td>\n",
              "    </tr>\n",
              "    <tr>\n",
              "      <th>4</th>\n",
              "      <td>/content/drive/My Drive/team7/data/B9XuP83gx_j...</td>\n",
              "      <td>0.030143</td>\n",
              "    </tr>\n",
              "    <tr>\n",
              "      <th>...</th>\n",
              "      <td>...</td>\n",
              "      <td>...</td>\n",
              "    </tr>\n",
              "    <tr>\n",
              "      <th>2030</th>\n",
              "      <td>/content/drive/My Drive/team7/data/B_UgmnQj0tQ...</td>\n",
              "      <td>0.041773</td>\n",
              "    </tr>\n",
              "    <tr>\n",
              "      <th>2031</th>\n",
              "      <td>/content/drive/My Drive/team7/data/B_QoOOxl-ve...</td>\n",
              "      <td>0.024106</td>\n",
              "    </tr>\n",
              "    <tr>\n",
              "      <th>2032</th>\n",
              "      <td>/content/drive/My Drive/team7/data/B_OM7wVoCUd...</td>\n",
              "      <td>0.025871</td>\n",
              "    </tr>\n",
              "    <tr>\n",
              "      <th>2033</th>\n",
              "      <td>/content/drive/My Drive/team7/data/B_QTlktFkRZ...</td>\n",
              "      <td>0.014322</td>\n",
              "    </tr>\n",
              "    <tr>\n",
              "      <th>2034</th>\n",
              "      <td>/content/drive/My Drive/team7/data/B_Na0gcHPZz...</td>\n",
              "      <td>0.012168</td>\n",
              "    </tr>\n",
              "  </tbody>\n",
              "</table>\n",
              "<p>2035 rows × 2 columns</p>\n",
              "</div>"
            ],
            "text/plain": [
              "                                                   path    target\n",
              "0     /content/drive/My Drive/team7/data/B9dZzI1n-EV...  0.112025\n",
              "1     /content/drive/My Drive/team7/data/B9cQMfVnkMe...  0.638448\n",
              "2     /content/drive/My Drive/team7/data/B9a0IQWnY9M...  0.053981\n",
              "3     /content/drive/My Drive/team7/data/B9NnTUrHoNX...  0.143885\n",
              "4     /content/drive/My Drive/team7/data/B9XuP83gx_j...  0.030143\n",
              "...                                                 ...       ...\n",
              "2030  /content/drive/My Drive/team7/data/B_UgmnQj0tQ...  0.041773\n",
              "2031  /content/drive/My Drive/team7/data/B_QoOOxl-ve...  0.024106\n",
              "2032  /content/drive/My Drive/team7/data/B_OM7wVoCUd...  0.025871\n",
              "2033  /content/drive/My Drive/team7/data/B_QTlktFkRZ...  0.014322\n",
              "2034  /content/drive/My Drive/team7/data/B_Na0gcHPZz...  0.012168\n",
              "\n",
              "[2035 rows x 2 columns]"
            ]
          },
          "metadata": {
            "tags": []
          },
          "execution_count": 7
        }
      ]
    },
    {
      "cell_type": "code",
      "metadata": {
        "id": "4c9_wH_jY0-9",
        "colab_type": "code",
        "colab": {}
      },
      "source": [
        "from sklearn.model_selection import train_test_split\n",
        "train,test = train_test_split(train_df, test_size=0.1)"
      ],
      "execution_count": 0,
      "outputs": []
    },
    {
      "cell_type": "code",
      "metadata": {
        "id": "elaVsH_tGoQV",
        "colab_type": "code",
        "outputId": "9033bbec-afe3-4d7f-d4c7-5dcbc2c344a7",
        "colab": {
          "base_uri": "https://localhost:8080/",
          "height": 52
        }
      },
      "source": [
        "batch_size = 128\n",
        "# this is the augmentation configuration we will use for training\n",
        "train_datagen = ImageDataGenerator()\n",
        "\n",
        "# this is the augmentation configuration we will use for testing:\n",
        "# only rescaling\n",
        "test_datagen = ImageDataGenerator()\n",
        "\n",
        "# this is a generator that will read pictures found in\n",
        "# subfolers of 'data/train', and indefinitely generate\n",
        "# batches of augmented image data\n",
        "train_generator = train_datagen.flow_from_dataframe(\n",
        "        dataframe=train,\n",
        "        x_col = 'path',\n",
        "        y_col = 'target',\n",
        "        # directory='data',\n",
        "        target_size=(150, 150),  # all images will be resized to 150x150\n",
        "        batch_size=batch_size,\n",
        "        class_mode='other',\n",
        "       #  preprocessing_function=lambda x: x print(x)\n",
        ")  # since we use binary_crossentropy loss, we need binary labels\n",
        "\n",
        "test_generator = test_datagen.flow_from_dataframe(\n",
        "        dataframe=test,\n",
        "        x_col = 'path',\n",
        "        y_col = 'target',\n",
        "        # directory='data',\n",
        "        target_size=(150, 150),  # all images will be resized to 150x150\n",
        "        batch_size=batch_size,\n",
        "        class_mode='other',\n",
        ")"
      ],
      "execution_count": 9,
      "outputs": [
        {
          "output_type": "stream",
          "text": [
            "Found 1831 validated image filenames.\n",
            "Found 204 validated image filenames.\n"
          ],
          "name": "stdout"
        }
      ]
    },
    {
      "cell_type": "code",
      "metadata": {
        "id": "BNH6LFbnGoQc",
        "colab_type": "code",
        "outputId": "8c397d9d-606d-41a0-d780-b6e7152cf56c",
        "colab": {
          "base_uri": "https://localhost:8080/",
          "height": 35
        }
      },
      "source": [
        "from tensorflow.python.client import device_lib\n",
        "\n",
        "def get_available_devices():\n",
        "    local_device_protos = device_lib.list_local_devices()\n",
        "    return [x.name for x in local_device_protos]\n",
        "\n",
        "print(get_available_devices())  "
      ],
      "execution_count": 10,
      "outputs": [
        {
          "output_type": "stream",
          "text": [
            "['/device:CPU:0', '/device:XLA_CPU:0', '/device:XLA_GPU:0', '/device:GPU:0']\n"
          ],
          "name": "stdout"
        }
      ]
    },
    {
      "cell_type": "code",
      "metadata": {
        "id": "23pGtgt7GoQj",
        "colab_type": "code",
        "outputId": "000d542f-71fe-46bd-b079-73cb4983b7e2",
        "colab": {
          "base_uri": "https://localhost:8080/",
          "height": 262
        }
      },
      "source": [
        "my_model.fit_generator(\n",
        "        train_generator,\n",
        "        steps_per_epoch=1280,\n",
        "        epochs=5,\n",
        "        #validation_data=validation_generator,\n",
        "        #validation_steps=800 // batch_size)\n",
        "        verbose = 2,\n",
        "        # use_multiprocessing=False\n",
        ")\n",
        "my_model.save_weights('first_try.h5')"
      ],
      "execution_count": 11,
      "outputs": [
        {
          "output_type": "stream",
          "text": [
            "WARNING:tensorflow:From <ipython-input-11-1c9edc03e9b3>:7: Model.fit_generator (from tensorflow.python.keras.engine.training) is deprecated and will be removed in a future version.\n",
            "Instructions for updating:\n",
            "Please use Model.fit, which supports generators.\n",
            "Epoch 1/5\n",
            "1280/1280 - 2331s - loss: 44.8555 - mse: 47.0055\n",
            "Epoch 2/5\n",
            "1280/1280 - 1552s - loss: 0.3423 - mse: 0.3486\n",
            "Epoch 3/5\n",
            "1280/1280 - 1550s - loss: 0.3342 - mse: 0.3416\n",
            "Epoch 4/5\n",
            "1280/1280 - 1556s - loss: 0.3347 - mse: 0.3412\n",
            "Epoch 5/5\n",
            "1280/1280 - 1567s - loss: 0.3376 - mse: 0.3439\n"
          ],
          "name": "stdout"
        }
      ]
    },
    {
      "cell_type": "code",
      "metadata": {
        "id": "YjOEh9vwGoQo",
        "colab_type": "code",
        "outputId": "fc35832d-6aa0-4830-f6ac-88735a1edd0b",
        "colab": {
          "base_uri": "https://localhost:8080/",
          "height": 52
        }
      },
      "source": [
        "my_model.evaluate(test_generator, steps=400)"
      ],
      "execution_count": 17,
      "outputs": [
        {
          "output_type": "stream",
          "text": [
            "400/400 [==============================] - 401s 1s/step - loss: 0.0205 - mse: 0.0206\n"
          ],
          "name": "stdout"
        },
        {
          "output_type": "execute_result",
          "data": {
            "text/plain": [
              "[0.02051091007888317, 0.02059905044734478]"
            ]
          },
          "metadata": {
            "tags": []
          },
          "execution_count": 17
        }
      ]
    }
  ]
}