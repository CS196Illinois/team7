{
  "nbformat": 4,
  "nbformat_minor": 0,
  "metadata": {
    "language_info": {
      "name": "python",
      "codemirror_mode": {
        "name": "ipython",
        "version": 3
      },
      "version": "3.8.0-beta"
    },
    "orig_nbformat": 2,
    "file_extension": ".py",
    "mimetype": "text/x-python",
    "name": "python",
    "npconvert_exporter": "python",
    "pygments_lexer": "ipython3",
    "version": 3,
    "kernelspec": {
      "name": "python3",
      "display_name": "Python 3"
    },
    "colab": {
      "name": "model2.ipynb",
      "provenance": [],
      "collapsed_sections": []
    },
    "accelerator": "GPU"
  },
  "cells": [
    {
      "cell_type": "code",
      "execution_count": 0,
      "metadata": {
        "colab": {},
        "colab_type": "code",
        "id": "6RatCMq0GoPm"
      },
      "outputs": [],
      "source": [
        "from tensorflow.keras.preprocessing.image import ImageDataGenerator, array_to_img, img_to_array, load_img"
      ]
    },
    {
      "cell_type": "code",
      "execution_count": 3,
      "metadata": {
        "colab": {
          "base_uri": "https://localhost:8080/",
          "height": 745
        },
        "colab_type": "code",
        "id": "Gd7b70h9GoPz",
        "outputId": "6b6e3c14-ca70-4ca4-8f18-2300d9b55709"
      },
      "outputs": [
        {
          "name": "stdout",
          "output_type": "stream",
          "text": [
            "Downloading data from https://storage.googleapis.com/tensorflow/keras-applications/vgg16/vgg16_weights_tf_dim_ordering_tf_kernels_notop.h5\n",
            "58892288/58889256 [==============================] - 0s 0us/step\n",
            "<tensorflow.python.keras.engine.input_layer.InputLayer object at 0x7f1e81b69898> False\n",
            "<tensorflow.python.keras.layers.convolutional.Conv2D object at 0x7f1e81b6def0> False\n",
            "<tensorflow.python.keras.layers.convolutional.Conv2D object at 0x7f1e81b1b8d0> False\n",
            "<tensorflow.python.keras.layers.pooling.MaxPooling2D object at 0x7f1e812dd8d0> False\n",
            "<tensorflow.python.keras.layers.convolutional.Conv2D object at 0x7f1e812dd780> False\n",
            "<tensorflow.python.keras.layers.convolutional.Conv2D object at 0x7f1e812ed7f0> False\n",
            "<tensorflow.python.keras.layers.pooling.MaxPooling2D object at 0x7f1e812f7208> False\n",
            "<tensorflow.python.keras.layers.convolutional.Conv2D object at 0x7f1e812f7b00> False\n",
            "<tensorflow.python.keras.layers.convolutional.Conv2D object at 0x7f1e812fee10> False\n",
            "<tensorflow.python.keras.layers.convolutional.Conv2D object at 0x7f1e7007cdd8> False\n",
            "<tensorflow.python.keras.layers.pooling.MaxPooling2D object at 0x7f1e70081400> False\n",
            "<tensorflow.python.keras.layers.convolutional.Conv2D object at 0x7f1e7008bd30> False\n",
            "<tensorflow.python.keras.layers.convolutional.Conv2D object at 0x7f1e7008be48> False\n",
            "<tensorflow.python.keras.layers.convolutional.Conv2D object at 0x7f1e70092860> False\n",
            "<tensorflow.python.keras.layers.pooling.MaxPooling2D object at 0x7f1e70098588> False\n",
            "<tensorflow.python.keras.layers.convolutional.Conv2D object at 0x7f1e700a2470> True\n",
            "<tensorflow.python.keras.layers.convolutional.Conv2D object at 0x7f1e700a83c8> True\n",
            "<tensorflow.python.keras.layers.convolutional.Conv2D object at 0x7f1e700b0588> True\n",
            "<tensorflow.python.keras.layers.pooling.MaxPooling2D object at 0x7f1e700374a8> True\n",
            "Model: \"model\"\n",
            "_________________________________________________________________\n",
            "Layer (type)                 Output Shape              Param #   \n",
            "=================================================================\n",
            "image_input (InputLayer)     [(None, 150, 150, 3)]     0         \n",
            "_________________________________________________________________\n",
            "vgg16 (Model)                multiple                  14714688  \n",
            "_________________________________________________________________\n",
            "flatten (Flatten)            (None, 8192)              0         \n",
            "_________________________________________________________________\n",
            "fc1 (Dense)                  (None, 4096)              33558528  \n",
            "_________________________________________________________________\n",
            "fc2 (Dense)                  (None, 1024)              4195328   \n",
            "_________________________________________________________________\n",
            "pred (Dense)                 (None, 1)                 1025      \n",
            "=================================================================\n",
            "Total params: 52,469,569\n",
            "Trainable params: 44,834,305\n",
            "Non-trainable params: 7,635,264\n",
            "_________________________________________________________________\n"
          ]
        }
      ],
      "source": [
        "from tensorflow.python.keras.applications.vgg16 import VGG16\n",
        "from tensorflow.python.keras.preprocessing import image\n",
        "from tensorflow.python.keras.applications.vgg16 import preprocess_input\n",
        "from tensorflow.python.keras.layers import Input, Flatten, Dense\n",
        "from tensorflow.python.keras.models import Model\n",
        "import numpy as np"
      ]
    },
    {
      "cell_type": "code",
      "execution_count": 0,
      "metadata": {
        "colab": {},
        "colab_type": "code",
        "id": "HbQyKuFJGoP7"
      },
      "outputs": [],
      "source": [
        "# load data into dataframe with 'path' and 'target' columns\n",
        "import pandas as pd\n",
        "train_label_df = pd.read_csv('/data.csv', delimiter=' ', header=1, names=[\"uid\"])\n",
        "train_label_df[\"path\"] = train_label_df['uid'].apply(lambda x : '/data/' + x.split(',')[-1][1:].split('/')[-1])\n",
        "train_label_df[\"target\"] = train_label_df['uid'].apply(lambda x : int(x.split(',')[1])/int(x.split(',')[2]))\n",
        "train_label_df =train_label_df.drop(['uid'], axis=1)\n",
        "\n",
        "train_label_df2 = pd.read_csv('/data_temp.csv', delimiter=' ', header=1, names=[\"uid\"])\n",
        "train_label_df2[\"path\"] = train_label_df2['uid'].apply(lambda x : \"/data/\" + x.split(',')[0] + \".jpg\")\n",
        "train_label_df2[\"target\"] = train_label_df2['uid'].apply(lambda x : int(x.split(',')[1])/int(x.split(',')[3]))\n",
        "train_label_df2 =train_label_df2.drop(['uid'], axis=1)"
      ]
    },
    {
      "cell_type": "code",
      "execution_count": 0,
      "metadata": {
        "colab": {},
        "colab_type": "code",
        "id": "4dVQCsyNGoQD"
      },
      "outputs": [],
      "source": [
        "train_df = pd.concat([train_label_df, train_label_df2], axis=0).reset_index().drop(['index'], axis=1)"
      ]
    },
    {
      "cell_type": "code",
      "execution_count": 0,
      "metadata": {
        "colab": {},
        "colab_type": "code",
        "id": "6ov4f7dpGoQI"
      },
      "outputs": [],
      "source": [
        "from os import listdir\n",
        "from os.path import isfile, join\n",
        "onlyfiles = [f for f in listdir('/data/') if isfile(join('/data/', f))]"
      ]
    },
    {
      "cell_type": "code",
      "execution_count": 6,
      "metadata": {
        "colab": {
          "base_uri": "https://localhost:8080/",
          "height": 407
        },
        "colab_type": "code",
        "id": "xywK2lf1GoQP",
        "outputId": "a7495cd4-34a0-47cf-b4e9-9d284f7bb8de"
      },
      "outputs": [
        {
          "data": {
            "text/html": [
              "<div>\n",
              "<style scoped>\n",
              "    .dataframe tbody tr th:only-of-type {\n",
              "        vertical-align: middle;\n",
              "    }\n",
              "\n",
              "    .dataframe tbody tr th {\n",
              "        vertical-align: top;\n",
              "    }\n",
              "\n",
              "    .dataframe thead th {\n",
              "        text-align: right;\n",
              "    }\n",
              "</style>\n",
              "<table border=\"1\" class=\"dataframe\">\n",
              "  <thead>\n",
              "    <tr style=\"text-align: right;\">\n",
              "      <th></th>\n",
              "      <th>path</th>\n",
              "      <th>target</th>\n",
              "    </tr>\n",
              "  </thead>\n",
              "  <tbody>\n",
              "    <tr>\n",
              "      <th>0</th>\n",
              "      <td>/content/drive/My Drive/team7/data/B9dZzI1n-EV...</td>\n",
              "      <td>0.112025</td>\n",
              "    </tr>\n",
              "    <tr>\n",
              "      <th>1</th>\n",
              "      <td>/content/drive/My Drive/team7/data/B9cQMfVnkMe...</td>\n",
              "      <td>0.638448</td>\n",
              "    </tr>\n",
              "    <tr>\n",
              "      <th>2</th>\n",
              "      <td>/content/drive/My Drive/team7/data/B9a0IQWnY9M...</td>\n",
              "      <td>0.053981</td>\n",
              "    </tr>\n",
              "    <tr>\n",
              "      <th>3</th>\n",
              "      <td>/content/drive/My Drive/team7/data/B9NnTUrHoNX...</td>\n",
              "      <td>0.143885</td>\n",
              "    </tr>\n",
              "    <tr>\n",
              "      <th>4</th>\n",
              "      <td>/content/drive/My Drive/team7/data/B9XuP83gx_j...</td>\n",
              "      <td>0.030143</td>\n",
              "    </tr>\n",
              "    <tr>\n",
              "      <th>...</th>\n",
              "      <td>...</td>\n",
              "      <td>...</td>\n",
              "    </tr>\n",
              "    <tr>\n",
              "      <th>2030</th>\n",
              "      <td>/content/drive/My Drive/team7/data/B_UgmnQj0tQ...</td>\n",
              "      <td>0.041773</td>\n",
              "    </tr>\n",
              "    <tr>\n",
              "      <th>2031</th>\n",
              "      <td>/content/drive/My Drive/team7/data/B_QoOOxl-ve...</td>\n",
              "      <td>0.024106</td>\n",
              "    </tr>\n",
              "    <tr>\n",
              "      <th>2032</th>\n",
              "      <td>/content/drive/My Drive/team7/data/B_OM7wVoCUd...</td>\n",
              "      <td>0.025871</td>\n",
              "    </tr>\n",
              "    <tr>\n",
              "      <th>2033</th>\n",
              "      <td>/content/drive/My Drive/team7/data/B_QTlktFkRZ...</td>\n",
              "      <td>0.014322</td>\n",
              "    </tr>\n",
              "    <tr>\n",
              "      <th>2034</th>\n",
              "      <td>/content/drive/My Drive/team7/data/B_Na0gcHPZz...</td>\n",
              "      <td>0.012168</td>\n",
              "    </tr>\n",
              "  </tbody>\n",
              "</table>\n",
              "<p>2035 rows × 2 columns</p>\n",
              "</div>"
            ],
            "text/plain": [
              "                                                   path    target\n",
              "0     /content/drive/My Drive/team7/data/B9dZzI1n-EV...  0.112025\n",
              "1     /content/drive/My Drive/team7/data/B9cQMfVnkMe...  0.638448\n",
              "2     /content/drive/My Drive/team7/data/B9a0IQWnY9M...  0.053981\n",
              "3     /content/drive/My Drive/team7/data/B9NnTUrHoNX...  0.143885\n",
              "4     /content/drive/My Drive/team7/data/B9XuP83gx_j...  0.030143\n",
              "...                                                 ...       ...\n",
              "2030  /content/drive/My Drive/team7/data/B_UgmnQj0tQ...  0.041773\n",
              "2031  /content/drive/My Drive/team7/data/B_QoOOxl-ve...  0.024106\n",
              "2032  /content/drive/My Drive/team7/data/B_OM7wVoCUd...  0.025871\n",
              "2033  /content/drive/My Drive/team7/data/B_QTlktFkRZ...  0.014322\n",
              "2034  /content/drive/My Drive/team7/data/B_Na0gcHPZz...  0.012168\n",
              "\n",
              "[2035 rows x 2 columns]"
            ]
          },
          "execution_count": 6,
          "metadata": {
            "tags": []
          },
          "output_type": "execute_result"
        }
      ],
      "source": [
        "new_df = train_df\n",
        "j = 0\n",
        "for i in train_df['path']:\n",
        "    if i.split(\"/\")[-1] not in onlyfiles:\n",
        "        new_df = new_df.drop(train_df.index[train_df['path'] == i].tolist())\n",
        "    else:\n",
        "      j+=1\n",
        "train_df = new_df.reset_index().drop(['index'], axis=1)\n",
        "train_df"
      ]
    },
    {
      "cell_type": "code",
      "execution_count": 0,
      "metadata": {
        "colab": {},
        "colab_type": "code",
        "id": "4c9_wH_jY0-9"
      },
      "outputs": [],
      "source": [
        "from sklearn.model_selection import train_test_split\n",
        "train,test = train_test_split(train_df, test_size=0.2)"
      ]
    },
    {
      "cell_type": "code",
      "execution_count": 8,
      "metadata": {
        "colab": {
          "base_uri": "https://localhost:8080/",
          "height": 52
        },
        "colab_type": "code",
        "id": "elaVsH_tGoQV",
        "outputId": "7217fb38-791d-49ab-c71b-e2a45fe92239"
      },
      "outputs": [
        {
          "name": "stdout",
          "output_type": "stream",
          "text": [
            "Found 1628 validated image filenames.\n",
            "Found 407 validated image filenames.\n"
          ]
        }
      ],
      "source": [
        "batch_size = 128\n",
        "\n",
        "train_datagen = ImageDataGenerator()\n",
        "test_datagen = ImageDataGenerator()\n",
        "\n",
        "train_generator = train_datagen.flow_from_dataframe(\n",
        "        dataframe=train,\n",
        "        x_col = 'path',\n",
        "        y_col = 'target',\n",
        "        target_size=(150, 150), \n",
        "        batch_size=batch_size,\n",
        "        class_mode='other',\n",
        ") \n",
        "\n",
        "test_generator = test_datagen.flow_from_dataframe(\n",
        "        dataframe=test,\n",
        "        x_col = 'path',\n",
        "        y_col = 'target',\n",
        "        target_size=(150, 150), \n",
        "        batch_size=batch_size,\n",
        "        class_mode='other',\n",
        ")"
      ]
    },
    {
      "cell_type": "code",
      "execution_count": 10,
      "metadata": {
        "colab": {
          "base_uri": "https://localhost:8080/",
          "height": 35
        },
        "colab_type": "code",
        "id": "BNH6LFbnGoQc",
        "outputId": "b57cd59e-7d70-4c0c-f4aa-af4d6b5ffbfb"
      },
      "outputs": [
        {
          "name": "stdout",
          "output_type": "stream",
          "text": [
            "['/device:CPU:0', '/device:XLA_CPU:0', '/device:XLA_GPU:0', '/device:GPU:0']\n"
          ]
        }
      ],
      "source": [
        "from tensorflow.python.client import device_lib\n",
        "\n",
        "def get_available_devices():\n",
        "    local_device_protos = device_lib.list_local_devices()\n",
        "    return [x.name for x in local_device_protos]\n",
        "\n",
        "print(get_available_devices())  "
      ]
    },
    {
      "cell_type": "markdown",
      "metadata": {
        "colab_type": "text",
        "id": "Rw-1xkdZWKx2"
      },
      "source": [
        "Train model pruned model"
      ]
    },
    {
      "cell_type": "code",
      "execution_count": 9,
      "metadata": {
        "colab": {
          "base_uri": "https://localhost:8080/",
          "height": 210
        },
        "colab_type": "code",
        "id": "iYdkcWnDW0pg",
        "outputId": "12a54627-5390-4996-eb92-b9bfa7e9f2c8"
      },
      "outputs": [
        {
          "name": "stdout",
          "output_type": "stream",
          "text": [
            "Collecting tensorflow-model-optimization\n",
            "\u001b[?25l  Downloading https://files.pythonhosted.org/packages/09/7e/e94aa029999ec30951e8129fa992fecbbaffda66eba97c65d5a83f8ea96d/tensorflow_model_optimization-0.3.0-py2.py3-none-any.whl (165kB)\n",
            "\u001b[K     |████████████████████████████████| 174kB 2.7MB/s \n",
            "\u001b[?25hRequirement already satisfied: six~=1.10 in /usr/local/lib/python3.6/dist-packages (from tensorflow-model-optimization) (1.12.0)\n",
            "Requirement already satisfied: numpy~=1.14 in /usr/local/lib/python3.6/dist-packages (from tensorflow-model-optimization) (1.18.3)\n",
            "Collecting dm-tree~=0.1.1\n",
            "\u001b[?25l  Downloading https://files.pythonhosted.org/packages/16/48/10fb721334810081b7e6eebeba0d12e12126c76993e8c243062d2f56a89f/dm_tree-0.1.5-cp36-cp36m-manylinux1_x86_64.whl (294kB)\n",
            "\u001b[K     |████████████████████████████████| 296kB 8.4MB/s \n",
            "\u001b[?25hInstalling collected packages: dm-tree, tensorflow-model-optimization\n",
            "Successfully installed dm-tree-0.1.5 tensorflow-model-optimization-0.3.0\n"
          ]
        }
      ],
      "source": [
        "! pip install tensorflow-model-optimization"
      ]
    },
    {
      "cell_type": "code",
      "execution_count": 0,
      "metadata": {
        "colab": {},
        "colab_type": "code",
        "id": "nxMKADMMWTuj"
      },
      "outputs": [],
      "source": [
        "from tensorflow_model_optimization.sparsity import keras as sparsity\n",
        "import tensorflow as tf\n",
        "import numpy as np"
      ]
    },
    {
      "cell_type": "code",
      "execution_count": 18,
      "metadata": {
        "colab": {
          "base_uri": "https://localhost:8080/",
          "height": 35
        },
        "colab_type": "code",
        "id": "pPQaLPIrkIhS",
        "outputId": "e0b788bd-4ae6-45da-f4e3-a034e310b78f"
      },
      "outputs": [
        {
          "name": "stdout",
          "output_type": "stream",
          "text": [
            "Writing training logs to /tmp/tmpk1li84lb\n"
          ]
        }
      ],
      "source": [
        "import tempfile\n",
        "logdir = tempfile.mkdtemp()\n",
        "print('Writing training logs to ' + logdir)"
      ]
    },
    {
      "cell_type": "code",
      "execution_count": 0,
      "metadata": {
        "colab": {},
        "colab_type": "code",
        "id": "w43OvCBq72yj"
      },
      "outputs": [],
      "source": [
        "from tensorflow.keras.models import load_model\n",
        "import tensorflow_hub as hub\n",
        "p_model = load_model('/content/drive/My Drive/model42604.h5',)"
      ]
    },
    {
      "cell_type": "code",
      "execution_count": 13,
      "metadata": {
        "colab": {
          "base_uri": "https://localhost:8080/",
          "height": 363
        },
        "colab_type": "code",
        "id": "2m_Fpqq9eXbw",
        "outputId": "bc0d5d56-dc9f-4f8c-b055-9c21cad185ae"
      },
      "outputs": [
        {
          "name": "stdout",
          "output_type": "stream",
          "text": [
            "Model: \"model\"\n",
            "_________________________________________________________________\n",
            "Layer (type)                 Output Shape              Param #   \n",
            "=================================================================\n",
            "image_input (InputLayer)     [(None, 150, 150, 3)]     0         \n",
            "_________________________________________________________________\n",
            "vgg16 (Model)                multiple                  14714688  \n",
            "_________________________________________________________________\n",
            "flatten (Flatten)            (None, 8192)              0         \n",
            "_________________________________________________________________\n",
            "fc1 (Dense)                  (None, 4096)              33558528  \n",
            "_________________________________________________________________\n",
            "fc2 (Dense)                  (None, 1024)              4195328   \n",
            "_________________________________________________________________\n",
            "pred (Dense)                 (None, 1)                 1025      \n",
            "=================================================================\n",
            "Total params: 52,469,569\n",
            "Trainable params: 44,834,305\n",
            "Non-trainable params: 7,635,264\n",
            "_________________________________________________________________\n"
          ]
        }
      ],
      "source": [
        "p_model.summary()"
      ]
    },
    {
      "cell_type": "code",
      "execution_count": 14,
      "metadata": {
        "colab": {
          "base_uri": "https://localhost:8080/",
          "height": 417
        },
        "colab_type": "code",
        "id": "ngtuDhYTcGFJ",
        "outputId": "444b91d4-5911-420e-895f-3d9a29b1ac70"
      },
      "outputs": [
        {
          "name": "stdout",
          "output_type": "stream",
          "text": [
            "195\n",
            "WARNING:tensorflow:From /usr/local/lib/python3.6/dist-packages/tensorflow_model_optimization/python/core/sparsity/keras/pruning_wrapper.py:199: Layer.add_variable (from tensorflow.python.keras.engine.base_layer) is deprecated and will be removed in a future version.\n",
            "Instructions for updating:\n",
            "Please use `layer.add_weight` method instead.\n",
            "Model: \"sequential_1\"\n",
            "_________________________________________________________________\n",
            "Layer (type)                 Output Shape              Param #   \n",
            "=================================================================\n",
            "vgg16 (Model)                multiple                  14714688  \n",
            "_________________________________________________________________\n",
            "flatten (Flatten)            (None, 8192)              0         \n",
            "_________________________________________________________________\n",
            "prune_low_magnitude_fc1 (Pru (None, 4096)              67112962  \n",
            "_________________________________________________________________\n",
            "prune_low_magnitude_fc2 (Pru (None, 1024)              8389634   \n",
            "_________________________________________________________________\n",
            "pred (Dense)                 (None, 1)                 1025      \n",
            "=================================================================\n",
            "Total params: 90,218,309\n",
            "Trainable params: 44,834,305\n",
            "Non-trainable params: 45,384,004\n",
            "_________________________________________________________________\n"
          ]
        }
      ],
      "source": [
        "epochs = 15\n",
        "end_step = np.ceil(1.0 * 1628 / 128).astype(np.int32) * epochs\n",
        "print(end_step)\n",
        "\n",
        "new_pruning_params = {\n",
        "      'pruning_schedule': sparsity.PolynomialDecay(initial_sparsity=0.20,\n",
        "                                                   final_sparsity=0.80,\n",
        "                                                   begin_step=0,\n",
        "                                                   end_step=end_step,\n",
        "                                                   frequency=100)\n",
        "}\n",
        "\n",
        "new_pruned_model = tf.keras.Sequential()\n",
        "for layer in p_model.layers:\n",
        "  if \"fc\" in layer.name:\n",
        "    new_pruned_model.add(sparsity.prune_low_magnitude(layer, **new_pruning_params))\n",
        "  else :\n",
        "    new_pruned_model.add(layer)\n",
        "new_pruned_model.summary()\n",
        "new_pruned_model.compile(\n",
        "    loss=\"mse\",\n",
        "    optimizer='adam',\n",
        "    metrics=['mse'])"
      ]
    },
    {
      "cell_type": "code",
      "execution_count": 0,
      "metadata": {
        "colab": {
          "base_uri": "https://localhost:8080/",
          "height": 380
        },
        "colab_type": "code",
        "id": "xXXwdZfdfk2p",
        "outputId": "71e5d926-05e4-49d7-e13d-3a7a54b9f989"
      },
      "outputs": [
        {
          "name": "stdout",
          "output_type": "stream",
          "text": [
            "Epoch 1/15\n",
            "1280/1280 - 4486s - loss: 0.3839 - mse: 0.3816 - val_loss: 0.0302 - val_mse: 0.0301\n",
            "Epoch 2/15\n",
            "1280/1280 - 3317s - loss: 0.3790 - mse: 0.3776 - val_loss: 0.0306 - val_mse: 0.0301\n",
            "Epoch 3/15\n",
            "1280/1280 - 3231s - loss: 0.3775 - mse: 0.3791 - val_loss: 0.0297 - val_mse: 0.0302\n",
            "Epoch 4/15\n",
            "1280/1280 - 3202s - loss: 0.3855 - mse: 0.3806 - val_loss: 0.0306 - val_mse: 0.0301\n",
            "Epoch 5/15\n",
            "1280/1280 - 3194s - loss: 0.3812 - mse: 0.3786 - val_loss: 0.0299 - val_mse: 0.0302\n",
            "Epoch 6/15\n",
            "1280/1280 - 3232s - loss: 0.3803 - mse: 0.3811 - val_loss: 0.0308 - val_mse: 0.0301\n",
            "Epoch 7/15\n",
            "1280/1280 - 3176s - loss: 0.3814 - mse: 0.3786 - val_loss: 0.0300 - val_mse: 0.0302\n",
            "Epoch 8/15\n",
            "1280/1280 - 3235s - loss: 0.3785 - mse: 0.3816 - val_loss: 0.0301 - val_mse: 0.0302\n",
            "Epoch 9/15\n",
            "1280/1280 - 3239s - loss: 0.3807 - mse: 0.3782 - val_loss: 0.0295 - val_mse: 0.0302\n",
            "Epoch 10/15\n",
            "1280/1280 - 3246s - loss: 0.3835 - mse: 0.3816 - val_loss: 0.0298 - val_mse: 0.0302\n",
            "Epoch 11/15\n"
          ]
        }
      ],
      "source": [
        "new_pruned_model.fit(\n",
        "        train_generator,\n",
        "        steps_per_epoch=1280,\n",
        "        epochs=15,\n",
        "        callbacks=callbacks,\n",
        "        validation_data=test_generator,\n",
        "        validation_steps=1280,\n",
        "        verbose = 2,\n",
        "        )\n",
        "final_pruned_model_test = sparsity.strip_pruning(pruned_model)\n",
        "final_pruned_model_test.summary()\n",
        "final_pruned_model_test.save(\"/content/drive/My Drive/model_pruned_final2.h5\",include_optimizer=False)"
      ]
    },
    {
      "cell_type": "code",
      "execution_count": 45,
      "metadata": {
        "colab": {
          "base_uri": "https://localhost:8080/",
          "height": 397
        },
        "colab_type": "code",
        "id": "89BZDFBxhIJ7",
        "outputId": "4647a356-aa22-488e-cb09-0e9b5d60af6c"
      },
      "outputs": [
        {
          "name": "stdout",
          "output_type": "stream",
          "text": [
            "Model: \"model_1\"\n",
            "_________________________________________________________________\n",
            "Layer (type)                 Output Shape              Param #   \n",
            "=================================================================\n",
            "image_input (InputLayer)     [(None, 150, 150, 3)]     0         \n",
            "_________________________________________________________________\n",
            "vgg16 (Model)                multiple                  14714688  \n",
            "_________________________________________________________________\n",
            "flatten (Flatten)            (None, 8192)              0         \n",
            "_________________________________________________________________\n",
            "dense (Dense)                (None, 4096)              33558528  \n",
            "_________________________________________________________________\n",
            "dense_1 (Dense)              (None, 1024)              4195328   \n",
            "_________________________________________________________________\n",
            "dense_2 (Dense)              (None, 1)                 1025      \n",
            "_________________________________________________________________\n",
            "dropout (Dropout)            (None, 1)                 0         \n",
            "=================================================================\n",
            "Total params: 52,469,569\n",
            "Trainable params: 44,834,305\n",
            "Non-trainable params: 7,635,264\n",
            "_________________________________________________________________\n"
          ]
        }
      ],
      "source": [
        "final_pruned_model_test = sparsity.strip_pruning(pruned_model)\n",
        "final_pruned_model_test.summary()\n",
        "final_pruned_model_test.save(\"/content/drive/My Drive/model_pruned_final.h5\",include_optimizer=False)"
      ]
    },
    {
      "cell_type": "code",
      "execution_count": 0,
      "metadata": {
        "colab": {},
        "colab_type": "code",
        "id": "TRmqJT0LmY84"
      },
      "outputs": [],
      "source": [
        ""
      ]
    }
  ]
}