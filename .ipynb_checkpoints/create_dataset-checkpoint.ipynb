{
 "cells": [
  {
   "cell_type": "markdown",
   "metadata": {},
   "source": [
    "## make a  folder called /data/ in the same directory as this file!"
   ]
  },
  {
   "cell_type": "code",
   "execution_count": 1,
   "metadata": {},
   "outputs": [],
   "source": [
    "import requests\n",
    "import urllib.request\n",
    "import csv\n",
    "import simplejson as json\n",
    "import os\n",
    "import shutil\n"
   ]
  },
  {
   "cell_type": "code",
   "execution_count": 2,
   "metadata": {},
   "outputs": [],
   "source": [
    "url=r\"https://www.instagram.com/explore/tags/travelanddestinations/?__a=1\"\n",
    "\n",
    "headers = {'Content-type': 'application/json'}\n",
    "\n",
    "r = requests.get(url,  headers=headers)\n",
    "\n",
    "data = r.json()\n",
    "\n",
    "\n"
   ]
  },
  {
   "cell_type": "code",
   "execution_count": null,
   "metadata": {},
   "outputs": [],
   "source": []
  },
  {
   "cell_type": "code",
   "execution_count": 3,
   "metadata": {},
   "outputs": [],
   "source": [
    "def get_data_from_shorturl(url):\n",
    "    headers = {'Content-type': 'application/json'}\n",
    "    r = requests.get(url,  headers=headers)\n",
    "    data = r.json()\n",
    "    return data"
   ]
  },
  {
   "cell_type": "code",
   "execution_count": 4,
   "metadata": {},
   "outputs": [
    {
     "data": {
      "text/plain": [
       "{'node': {'__typename': 'GraphImage',\n",
       "  'id': '2256999260687778155',\n",
       "  'edge_media_to_caption': {'edges': [{'node': {'text': 'Lago di Braies 🏞⚘🛶 Dobbiaco Italy \\nCongrats @michael_nebuloni8819 \\nUse #map_of_europe #map_of_Italy'}}]},\n",
       "  'shortcode': 'B9SeN6XnUFr',\n",
       "  'edge_media_to_comment': {'count': 84},\n",
       "  'taken_at_timestamp': 1583275300,\n",
       "  'dimensions': {'height': 1350, 'width': 1080},\n",
       "  'display_url': 'https://scontent-ort2-2.cdninstagram.com/v/t51.2885-15/e35/88391552_105145300995361_3302294170001060498_n.jpg?_nc_ht=scontent-ort2-2.cdninstagram.com&_nc_cat=1&_nc_ohc=g-3mVG9txdsAX9TchvU&oh=ec6e5a924da333b56b04cbf01bcbf196&oe=5E8ECA51',\n",
       "  'edge_liked_by': {'count': 10964},\n",
       "  'edge_media_preview_like': {'count': 10964},\n",
       "  'owner': {'id': '5719723735'},\n",
       "  'thumbnail_src': 'https://scontent-ort2-2.cdninstagram.com/v/t51.2885-15/sh0.08/e35/c0.135.1080.1080a/s640x640/88391552_105145300995361_3302294170001060498_n.jpg?_nc_ht=scontent-ort2-2.cdninstagram.com&_nc_cat=1&_nc_ohc=g-3mVG9txdsAX9TchvU&oh=8ab7346cae91a993b1fc9c517a4ccf9e&oe=5E8D375D',\n",
       "  'thumbnail_resources': [{'src': 'https://scontent-ort2-2.cdninstagram.com/v/t51.2885-15/e35/c0.135.1080.1080a/s150x150/88391552_105145300995361_3302294170001060498_n.jpg?_nc_ht=scontent-ort2-2.cdninstagram.com&_nc_cat=1&_nc_ohc=g-3mVG9txdsAX9TchvU&oh=c00c8c65faa562dde15e59817187564f&oe=5E918C96',\n",
       "    'config_width': 150,\n",
       "    'config_height': 150},\n",
       "   {'src': 'https://scontent-ort2-2.cdninstagram.com/v/t51.2885-15/e35/c0.135.1080.1080a/s240x240/88391552_105145300995361_3302294170001060498_n.jpg?_nc_ht=scontent-ort2-2.cdninstagram.com&_nc_cat=1&_nc_ohc=g-3mVG9txdsAX9TchvU&oh=281d0bffbeec5e64b831a47f86b35dd1&oe=5E9022DC',\n",
       "    'config_width': 240,\n",
       "    'config_height': 240},\n",
       "   {'src': 'https://scontent-ort2-2.cdninstagram.com/v/t51.2885-15/e35/c0.135.1080.1080a/s320x320/88391552_105145300995361_3302294170001060498_n.jpg?_nc_ht=scontent-ort2-2.cdninstagram.com&_nc_cat=1&_nc_ohc=g-3mVG9txdsAX9TchvU&oh=4c5cbd9ee87ea5556d0bef19beb66ca4&oe=5E967866',\n",
       "    'config_width': 320,\n",
       "    'config_height': 320},\n",
       "   {'src': 'https://scontent-ort2-2.cdninstagram.com/v/t51.2885-15/e35/c0.135.1080.1080a/s480x480/88391552_105145300995361_3302294170001060498_n.jpg?_nc_ht=scontent-ort2-2.cdninstagram.com&_nc_cat=1&_nc_ohc=g-3mVG9txdsAX9TchvU&oh=37284034c050700fdfea598a0363e3e8&oe=5E98C53C',\n",
       "    'config_width': 480,\n",
       "    'config_height': 480},\n",
       "   {'src': 'https://scontent-ort2-2.cdninstagram.com/v/t51.2885-15/sh0.08/e35/c0.135.1080.1080a/s640x640/88391552_105145300995361_3302294170001060498_n.jpg?_nc_ht=scontent-ort2-2.cdninstagram.com&_nc_cat=1&_nc_ohc=g-3mVG9txdsAX9TchvU&oh=8ab7346cae91a993b1fc9c517a4ccf9e&oe=5E8D375D',\n",
       "    'config_width': 640,\n",
       "    'config_height': 640}],\n",
       "  'is_video': False,\n",
       "  'accessibility_caption': 'Image may contain: mountain, sky, outdoor, nature and water'}}"
      ]
     },
     "execution_count": 4,
     "metadata": {},
     "output_type": "execute_result"
    }
   ],
   "source": [
    "#data[\"graphql\"][\"hashtag\"][\"edge_hashtag_to_top_posts\"][\"edges\"]\n",
    "data[\"graphql\"][\"hashtag\"][\"edge_hashtag_to_top_posts\"][\"edges\"][0]\n",
    "# use .keys() to see what is available\n",
    "# pick one, add it, see what you get"
   ]
  },
  {
   "cell_type": "code",
   "execution_count": 130,
   "metadata": {},
   "outputs": [
    {
     "name": "stdout",
     "output_type": "stream",
     "text": [
      "B8zGiXWoCDL 2721 61288 ('./data/B8zGiXWoCDL.jpg', <http.client.HTTPMessage object at 0x060C0FB8>)\n",
      "B860C9KDAlP 13692 478228 ('./data/B860C9KDAlP.jpg', <http.client.HTTPMessage object at 0x060C05E0>)\n",
      "B81EezSjQZu 11743 478228 ('./data/B81EezSjQZu.jpg', <http.client.HTTPMessage object at 0x060C0BF8>)\n",
      "B86e7VwK4Nf 10590 212355 ('./data/B86e7VwK4Nf.jpg', <http.client.HTTPMessage object at 0x060C08E0>)\n",
      "B85WFyTjxyP 12536 478228 ('./data/B85WFyTjxyP.jpg', <http.client.HTTPMessage object at 0x060B0868>)\n",
      "B8wkfksjATo 12674 478228 ('./data/B8wkfksjATo.jpg', <http.client.HTTPMessage object at 0x060C0508>)\n",
      "B8t7JnYIqM6 2706 61288 ('./data/B8t7JnYIqM6.jpg', <http.client.HTTPMessage object at 0x00E56388>)\n",
      "B86ZvJ6hnQe 1542 25851 ('./data/B86ZvJ6hnQe.jpg', <http.client.HTTPMessage object at 0x00E56D78>)\n",
      "B82H62bBZMy 5225 575320 ('./data/B82H62bBZMy.jpg', <http.client.HTTPMessage object at 0x00E56EB0>)\n"
     ]
    }
   ],
   "source": [
    "i = 0\n",
    "with open('data.csv', newline='') as csvfile:\n",
    "    for item in data[\"graphql\"][\"hashtag\"][\"edge_hashtag_to_top_posts\"][\"edges\"]:\n",
    "        curr = item['node']\n",
    "        likes = curr[\"edge_liked_by\"][\"count\"]\n",
    "\n",
    "        shorturl = \"https://www.instagram.com/p/\" + curr[\"shortcode\"] + \"/?__a=1\"\n",
    "        name = get_data_from_shorturl(shorturl)[\"graphql\"][\"shortcode_media\"][\"owner\"][\"username\"]\n",
    "\n",
    "        followers = get_data_from_shorturl(\"https://www.instagram.com/\" + name + \"/?__a=1\")[\"graphql\"][\"user\"][\"edge_followed_by\"][\"count\"]\n",
    "\n",
    "        image = urllib.request.urlretrieve(curr[\"thumbnail_resources\"][-1][\"src\"], \"./data/\"+curr[\"shortcode\"]+\".jpg\")\n",
    "\n",
    "        # Use the CSV Package here to write the shortcode (UID), likes, and followers!\n",
    "        print(curr[\"shortcode\"], likes, followers, image[0])\n",
    "\n",
    "        i+=1\n"
   ]
  },
  {
   "cell_type": "code",
   "execution_count": null,
   "metadata": {},
   "outputs": [],
   "source": []
  }
 ],
 "metadata": {
  "kernelspec": {
   "display_name": "Python 3",
   "language": "python",
   "name": "python3"
  },
  "language_info": {
   "codemirror_mode": {
    "name": "ipython",
    "version": 3
   },
   "file_extension": ".py",
   "mimetype": "text/x-python",
   "name": "python",
   "nbconvert_exporter": "python",
   "pygments_lexer": "ipython3",
   "version": "3.7.4"
  }
 },
 "nbformat": 4,
 "nbformat_minor": 4
}
