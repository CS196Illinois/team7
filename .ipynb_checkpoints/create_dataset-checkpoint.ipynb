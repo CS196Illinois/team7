{
 "cells": [
  {
   "cell_type": "markdown",
   "metadata": {},
   "source": [
    "## make a  folder called /data/ in the same directory as this file!"
   ]
  },
  {
   "cell_type": "code",
   "execution_count": 1,
   "metadata": {},
   "outputs": [],
   "source": [
    "import requests\n",
    "import urllib.request\n",
    "import csv\n",
    "import simplejson as json\n",
    "import os\n",
    "import shutil\n"
   ]
  },
  {
   "cell_type": "code",
   "execution_count": 3,
   "metadata": {},
   "outputs": [],
   "source": [
    "url=r\"https://www.instagram.com/explore/tags/travelanddestinations/?__a=1\"\n",
    "\n",
    "headers = {'Content-type': 'application/json'}\n",
    "\n",
    "r = requests.get(url,  headers=headers)\n",
    "\n",
    "data = r.json()\n",
    "\n",
    "\n"
   ]
  },
  {
   "cell_type": "code",
   "execution_count": null,
   "metadata": {},
   "outputs": [],
   "source": []
  },
  {
   "cell_type": "code",
   "execution_count": 5,
   "metadata": {},
   "outputs": [],
   "source": [
    "def get_data_from_shorturl(url):\n",
    "    headers = {'Content-type': 'application/json'}\n",
    "    r = requests.get(url,  headers=headers)\n",
    "    data = r.json()\n",
    "    return data"
   ]
  },
  {
   "cell_type": "code",
   "execution_count": 15,
   "metadata": {},
   "outputs": [
    {
     "data": {
      "text/plain": [
       "{'node': {'__typename': 'GraphImage',\n",
       "  'id': '2254721367973177744',\n",
       "  'edge_media_to_caption': {'edges': [{'node': {'text': 'Last week @calistogaranch invited us over to experience their nature inspired responsible luxury resort nestled in Napa Valley. The property sits on 157 acres and offers endless opportunities for outdoor activities as well as  private dinning in the Lake House overlooking Lake Lommel. ⠀\\n\\nIn keeping with the rich agricultural heritage of the Napa Valley, fine wine is a primary focus at Calistoga Ranch, the only resort in Napa Valley with an on-site vineyard grape 🍇🏡 ⠀\\n\\nHead over to our stories for a firsthand look at @calistogaranch! ⠀\\n\\nTag someone that needs a Napa Valley getaway! ⠀\\n\\n#calistogaranch #alwaysauberge'}}]},\n",
       "  'shortcode': 'B9KYSNdhimQ',\n",
       "  'edge_media_to_comment': {'count': 29},\n",
       "  'taken_at_timestamp': 1583003754,\n",
       "  'dimensions': {'height': 1350, 'width': 1080},\n",
       "  'display_url': 'https://scontent-ort2-2.cdninstagram.com/v/t51.2885-15/e35/p1080x1080/88360966_192103735399269_2095922852816341029_n.jpg?_nc_ht=scontent-ort2-2.cdninstagram.com&_nc_cat=109&_nc_ohc=70LsKLZxRPQAX9H_77u&oh=0e8a25f18c1e82b08208d8b2f6753440&oe=5E8F6ED9',\n",
       "  'edge_liked_by': {'count': 5087},\n",
       "  'edge_media_preview_like': {'count': 5087},\n",
       "  'owner': {'id': '2982136896'},\n",
       "  'thumbnail_src': 'https://scontent-ort2-2.cdninstagram.com/v/t51.2885-15/sh0.08/e35/c0.169.1349.1349a/s640x640/88360966_192103735399269_2095922852816341029_n.jpg?_nc_ht=scontent-ort2-2.cdninstagram.com&_nc_cat=109&_nc_ohc=70LsKLZxRPQAX9H_77u&oh=a59c56b04edc600581767cbea71cc4d2&oe=5E886EDD',\n",
       "  'thumbnail_resources': [{'src': 'https://scontent-ort2-2.cdninstagram.com/v/t51.2885-15/e35/c0.169.1349.1349a/s150x150/88360966_192103735399269_2095922852816341029_n.jpg?_nc_ht=scontent-ort2-2.cdninstagram.com&_nc_cat=109&_nc_ohc=70LsKLZxRPQAX9H_77u&oh=97b3d6314307f490057b85271b01be77&oe=5E8E9916',\n",
       "    'config_width': 150,\n",
       "    'config_height': 150},\n",
       "   {'src': 'https://scontent-ort2-2.cdninstagram.com/v/t51.2885-15/e35/c0.169.1349.1349a/s240x240/88360966_192103735399269_2095922852816341029_n.jpg?_nc_ht=scontent-ort2-2.cdninstagram.com&_nc_cat=109&_nc_ohc=70LsKLZxRPQAX9H_77u&oh=637c818953240ed1a9c6d481e1e501f9&oe=5E8FCE5C',\n",
       "    'config_width': 240,\n",
       "    'config_height': 240},\n",
       "   {'src': 'https://scontent-ort2-2.cdninstagram.com/v/t51.2885-15/e35/c0.169.1349.1349a/s320x320/88360966_192103735399269_2095922852816341029_n.jpg?_nc_ht=scontent-ort2-2.cdninstagram.com&_nc_cat=109&_nc_ohc=70LsKLZxRPQAX9H_77u&oh=32c833413994d53dfde7a9f285501bd0&oe=5E8646E6',\n",
       "    'config_width': 320,\n",
       "    'config_height': 320},\n",
       "   {'src': 'https://scontent-ort2-2.cdninstagram.com/v/t51.2885-15/e35/c0.169.1349.1349a/s480x480/88360966_192103735399269_2095922852816341029_n.jpg?_nc_ht=scontent-ort2-2.cdninstagram.com&_nc_cat=109&_nc_ohc=70LsKLZxRPQAX9H_77u&oh=f9d3740c8c13edb46063ce97d4f3ba13&oe=5E8F9BBC',\n",
       "    'config_width': 480,\n",
       "    'config_height': 480},\n",
       "   {'src': 'https://scontent-ort2-2.cdninstagram.com/v/t51.2885-15/sh0.08/e35/c0.169.1349.1349a/s640x640/88360966_192103735399269_2095922852816341029_n.jpg?_nc_ht=scontent-ort2-2.cdninstagram.com&_nc_cat=109&_nc_ohc=70LsKLZxRPQAX9H_77u&oh=a59c56b04edc600581767cbea71cc4d2&oe=5E886EDD',\n",
       "    'config_width': 640,\n",
       "    'config_height': 640}],\n",
       "  'is_video': False,\n",
       "  'accessibility_caption': 'Image may contain: people sitting, table and indoor'}}"
      ]
     },
     "execution_count": 15,
     "metadata": {},
     "output_type": "execute_result"
    }
   ],
   "source": [
    "#data[\"graphql\"][\"hashtag\"][\"edge_hashtag_to_top_posts\"][\"edges\"]\n",
    "data[\"graphql\"][\"hashtag\"][\"edge_hashtag_to_top_posts\"][\"edges\"][0]\n",
    "# use .keys() to see what is available\n",
    "# pick one, add it, see what you get"
   ]
  },
  {
   "cell_type": "code",
   "execution_count": 130,
   "metadata": {},
   "outputs": [
    {
     "name": "stdout",
     "output_type": "stream",
     "text": [
      "B8zGiXWoCDL 2721 61288 ('./data/B8zGiXWoCDL.jpg', <http.client.HTTPMessage object at 0x060C0FB8>)\n",
      "B860C9KDAlP 13692 478228 ('./data/B860C9KDAlP.jpg', <http.client.HTTPMessage object at 0x060C05E0>)\n",
      "B81EezSjQZu 11743 478228 ('./data/B81EezSjQZu.jpg', <http.client.HTTPMessage object at 0x060C0BF8>)\n",
      "B86e7VwK4Nf 10590 212355 ('./data/B86e7VwK4Nf.jpg', <http.client.HTTPMessage object at 0x060C08E0>)\n",
      "B85WFyTjxyP 12536 478228 ('./data/B85WFyTjxyP.jpg', <http.client.HTTPMessage object at 0x060B0868>)\n",
      "B8wkfksjATo 12674 478228 ('./data/B8wkfksjATo.jpg', <http.client.HTTPMessage object at 0x060C0508>)\n",
      "B8t7JnYIqM6 2706 61288 ('./data/B8t7JnYIqM6.jpg', <http.client.HTTPMessage object at 0x00E56388>)\n",
      "B86ZvJ6hnQe 1542 25851 ('./data/B86ZvJ6hnQe.jpg', <http.client.HTTPMessage object at 0x00E56D78>)\n",
      "B82H62bBZMy 5225 575320 ('./data/B82H62bBZMy.jpg', <http.client.HTTPMessage object at 0x00E56EB0>)\n"
     ]
    }
   ],
   "source": [
    "i = 0\n",
    "for item in data[\"graphql\"][\"hashtag\"][\"edge_hashtag_to_top_posts\"][\"edges\"]:\n",
    "    curr = item['node']\n",
    "    likes = curr[\"edge_liked_by\"][\"count\"]\n",
    "    \n",
    "    shorturl = \"https://www.instagram.com/p/\" + curr[\"shortcode\"] + \"/?__a=1\"\n",
    "    name = get_data_from_shorturl(shorturl)[\"graphql\"][\"shortcode_media\"][\"owner\"][\"username\"]\n",
    "    \n",
    "    followers = get_data_from_shorturl(\"https://www.instagram.com/\" + name + \"/?__a=1\")[\"graphql\"][\"user\"][\"edge_followed_by\"][\"count\"]\n",
    "    \n",
    "    image = urllib.request.urlretrieve(curr[\"thumbnail_resources\"][-1][\"src\"], \"./data/\"+curr[\"shortcode\"]+\".jpg\")\n",
    "    \n",
    "    # Use the CSV Package here to write the shortcode (UID), likes, and followers!\n",
    "    print(curr[\"shortcode\"], likes, followers, image[0])\n",
    "    i+=1\n"
   ]
  },
  {
   "cell_type": "code",
   "execution_count": null,
   "metadata": {},
   "outputs": [],
   "source": []
  }
 ],
 "metadata": {
  "kernelspec": {
   "display_name": "Python 3",
   "language": "python",
   "name": "python3"
  },
  "language_info": {
   "codemirror_mode": {
    "name": "ipython",
    "version": 3
   },
   "file_extension": ".py",
   "mimetype": "text/x-python",
   "name": "python",
   "nbconvert_exporter": "python",
   "pygments_lexer": "ipython3",
   "version": "3.7.4"
  }
 },
 "nbformat": 4,
 "nbformat_minor": 4
}
