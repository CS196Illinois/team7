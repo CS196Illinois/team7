{
  "nbformat": 4,
  "nbformat_minor": 0,
  "metadata": {
    "kernelspec": {
      "name": "python3",
      "display_name": "Python 3"
    },
    "language_info": {
      "codemirror_mode": {
        "name": "ipython",
        "version": 3
      },
      "file_extension": ".py",
      "mimetype": "text/x-python",
      "name": "python",
      "nbconvert_exporter": "python",
      "pygments_lexer": "ipython3",
      "version": "3.6.8"
    },
    "colab": {
      "name": "Copy of retraining.ipynb",
      "provenance": [],
      "collapsed_sections": []
    },
    "accelerator": "GPU"
  },
  "cells": [
    {
      "cell_type": "code",
      "metadata": {
        "id": "7_b4He8CS3ka",
        "colab_type": "code",
        "outputId": "577d839d-c767-49a1-eddd-066e05ad420f",
        "colab": {
          "base_uri": "https://localhost:8080/",
          "height": 122
        }
      },
      "source": [
        "from google.colab import drive\n",
        "drive.mount('/content/drive')"
      ],
      "execution_count": 7,
      "outputs": [
        {
          "output_type": "stream",
          "text": [
            "Go to this URL in a browser: https://accounts.google.com/o/oauth2/auth?client_id=947318989803-6bn6qk8qdgf4n4g3pfee6491hc0brc4i.apps.googleusercontent.com&redirect_uri=urn%3aietf%3awg%3aoauth%3a2.0%3aoob&response_type=code&scope=email%20https%3a%2f%2fwww.googleapis.com%2fauth%2fdocs.test%20https%3a%2f%2fwww.googleapis.com%2fauth%2fdrive%20https%3a%2f%2fwww.googleapis.com%2fauth%2fdrive.photos.readonly%20https%3a%2f%2fwww.googleapis.com%2fauth%2fpeopleapi.readonly\n",
            "\n",
            "Enter your authorization code:\n",
            "··········\n",
            "Mounted at /content/drive\n"
          ],
          "name": "stdout"
        }
      ]
    },
    {
      "cell_type": "code",
      "metadata": {
        "id": "8KdBCWKtP3CH",
        "colab_type": "code",
        "colab": {}
      },
      "source": [
        "from tensorflow.keras.preprocessing.image import ImageDataGenerator, array_to_img, img_to_array, load_img"
      ],
      "execution_count": 0,
      "outputs": []
    },
    {
      "cell_type": "code",
      "metadata": {
        "id": "001p62NNP3CL",
        "colab_type": "code",
        "colab": {}
      },
      "source": [
        ""
      ],
      "execution_count": 0,
      "outputs": []
    },
    {
      "cell_type": "code",
      "metadata": {
        "id": "6eVy-slzc5ys",
        "colab_type": "code",
        "outputId": "4301a7a6-49e2-45ac-f180-29bfe8698c6f",
        "colab": {
          "base_uri": "https://localhost:8080/",
          "height": 680
        }
      },
      "source": [
        "from tensorflow.python.keras.applications.vgg16 import VGG16\n",
        "from tensorflow.python.keras.preprocessing import image\n",
        "from tensorflow.python.keras.applications.vgg16 import preprocess_input\n",
        "from tensorflow.python.keras.layers import Input, Flatten, Dense\n",
        "from tensorflow.python.keras.models import Model\n",
        "import numpy as np\n",
        "\n",
        "#Get back the convolutional part of a VGG network trained on ImageNet\n",
        "model_vgg16_conv = VGG16(weights='imagenet', include_top=False) # data_format = \"channels_first\"\n",
        "\n",
        "# Freeze the layers except the last 4 layers\n",
        "for layer in model_vgg16_conv.layers[:-4]:\n",
        "    layer.trainable = False\n",
        "\n",
        "# Check the trainable status of the individual layers\n",
        "for layer in model_vgg16_conv.layers:\n",
        "    print(layer, layer.trainable)\n",
        "\n",
        "#Create your own input format (here 3x200x200)\n",
        "input = Input(shape=(150,150,3),name = 'image_input')\n",
        "\n",
        "#Use the generated model \n",
        "output_vgg16_conv = model_vgg16_conv(input)\n",
        "\n",
        "#Add the fully-connected layers \n",
        "x = Flatten(name='flatten')(output_vgg16_conv)\n",
        "x = Dense(4096, activation='relu', name='fc1')(x)\n",
        "x = Dense(1024, activation='relu', name='fc2')(x)\n",
        "x = Dense(1, activation='linear', name='pred')(x)\n",
        "\n",
        "#Create your own model \n",
        "my_model = Model(input, x)\n",
        "\n",
        "#In the summary, weights and layers from VGG part will be hidden, but they will be fit during the training\n",
        "\n",
        "my_model.compile(loss='mse',\n",
        "              optimizer='adam',\n",
        "              metrics=['mse'])\n",
        "my_model.summary()\n",
        "#Then training with your data ! "
      ],
      "execution_count": 9,
      "outputs": [
        {
          "output_type": "stream",
          "text": [
            "<tensorflow.python.keras.engine.input_layer.InputLayer object at 0x7f8fd0cf8c50> False\n",
            "<tensorflow.python.keras.layers.convolutional.Conv2D object at 0x7f8fd0cf8e48> False\n",
            "<tensorflow.python.keras.layers.convolutional.Conv2D object at 0x7f8fd0cfb160> False\n",
            "<tensorflow.python.keras.layers.pooling.MaxPooling2D object at 0x7f8fd0cfd438> False\n",
            "<tensorflow.python.keras.layers.convolutional.Conv2D object at 0x7f8fd0cfd2e8> False\n",
            "<tensorflow.python.keras.layers.convolutional.Conv2D object at 0x7f8fd0c81630> False\n",
            "<tensorflow.python.keras.layers.pooling.MaxPooling2D object at 0x7f8fd0c8b7f0> False\n",
            "<tensorflow.python.keras.layers.convolutional.Conv2D object at 0x7f8fd0c8b668> False\n",
            "<tensorflow.python.keras.layers.convolutional.Conv2D object at 0x7f8fd0c939b0> False\n",
            "<tensorflow.python.keras.layers.convolutional.Conv2D object at 0x7f8fd0c9ab70> False\n",
            "<tensorflow.python.keras.layers.pooling.MaxPooling2D object at 0x7f8fd0ca1a90> False\n",
            "<tensorflow.python.keras.layers.convolutional.Conv2D object at 0x7f8fd0ca1908> False\n",
            "<tensorflow.python.keras.layers.convolutional.Conv2D object at 0x7f8fd0ca8c50> False\n",
            "<tensorflow.python.keras.layers.convolutional.Conv2D object at 0x7f8fd0cad390> False\n",
            "<tensorflow.python.keras.layers.pooling.MaxPooling2D object at 0x7f8fd0cb72b0> False\n",
            "<tensorflow.python.keras.layers.convolutional.Conv2D object at 0x7f8fd0cb7ba8> True\n",
            "<tensorflow.python.keras.layers.convolutional.Conv2D object at 0x7f8fd0c3eeb8> True\n",
            "<tensorflow.python.keras.layers.convolutional.Conv2D object at 0x7f8fd0c44470> True\n",
            "<tensorflow.python.keras.layers.pooling.MaxPooling2D object at 0x7f8fd0c4b4a8> True\n",
            "Model: \"model_5\"\n",
            "_________________________________________________________________\n",
            "Layer (type)                 Output Shape              Param #   \n",
            "=================================================================\n",
            "image_input (InputLayer)     [(None, 150, 150, 3)]     0         \n",
            "_________________________________________________________________\n",
            "vgg16 (Model)                multiple                  14714688  \n",
            "_________________________________________________________________\n",
            "flatten (Flatten)            (None, 8192)              0         \n",
            "_________________________________________________________________\n",
            "fc1 (Dense)                  (None, 4096)              33558528  \n",
            "_________________________________________________________________\n",
            "fc2 (Dense)                  (None, 1024)              4195328   \n",
            "_________________________________________________________________\n",
            "pred (Dense)                 (None, 1)                 1025      \n",
            "=================================================================\n",
            "Total params: 52,469,569\n",
            "Trainable params: 44,834,305\n",
            "Non-trainable params: 7,635,264\n",
            "_________________________________________________________________\n"
          ],
          "name": "stdout"
        }
      ]
    },
    {
      "cell_type": "code",
      "metadata": {
        "id": "6xak7vOzdE8j",
        "colab_type": "code",
        "colab": {}
      },
      "source": [
        ""
      ],
      "execution_count": 0,
      "outputs": []
    },
    {
      "cell_type": "code",
      "metadata": {
        "id": "yOaN_oYNP3CP",
        "colab_type": "code",
        "colab": {}
      },
      "source": [
        "# load data into dataframe with 'path' and 'target' columns\n",
        "import pandas as pd\n",
        "train_label_df = pd.read_csv('/content/drive/My Drive/team7/team7/data.csv', delimiter=' ', header=1, names=[\"uid\"])\n",
        "train_label_df[\"path\"] = train_label_df['uid'].apply(lambda x : '/content/drive/My Drive/team7/team7/data/' + x.split(',')[-1][1:].split('/')[-1])\n",
        "train_label_df[\"target\"] = train_label_df['uid'].apply(lambda x : int(x.split(',')[1])/int(x.split(',')[2]))\n",
        "train_label_df =train_label_df.drop(['uid'], axis=1)\n",
        "\n",
        "train_label_df2 = pd.read_csv('/content/drive/My Drive/team7/team7/data_temp.csv', delimiter=' ', header=1, names=[\"uid\"])\n",
        "train_label_df2[\"path\"] = train_label_df2['uid'].apply(lambda x : \"/content/drive/My Drive/team7/team7/data/\" + x.split(',')[0] + \".jpg\")\n",
        "train_label_df2[\"target\"] = train_label_df2['uid'].apply(lambda x : int(x.split(',')[1])/int(x.split(',')[3]))\n",
        "train_label_df2 =train_label_df2.drop(['uid'], axis=1)\n",
        "#uid,likes,comments,followers\n",
        "#B-A-bW9l1Gm,601,43,6715"
      ],
      "execution_count": 0,
      "outputs": []
    },
    {
      "cell_type": "code",
      "metadata": {
        "id": "jim9eZfNP3CS",
        "colab_type": "code",
        "colab": {}
      },
      "source": [
        ""
      ],
      "execution_count": 0,
      "outputs": []
    },
    {
      "cell_type": "code",
      "metadata": {
        "id": "8xYINQSdP3CW",
        "colab_type": "code",
        "colab": {}
      },
      "source": [
        ""
      ],
      "execution_count": 0,
      "outputs": []
    },
    {
      "cell_type": "code",
      "metadata": {
        "id": "K-WM0xdpP3CY",
        "colab_type": "code",
        "colab": {}
      },
      "source": [
        "train_df = pd.concat([train_label_df, train_label_df2], axis=0).reset_index().drop(['index'], axis=1)"
      ],
      "execution_count": 0,
      "outputs": []
    },
    {
      "cell_type": "code",
      "metadata": {
        "id": "Oo3AocBLbC1l",
        "colab_type": "code",
        "colab": {}
      },
      "source": [
        ""
      ],
      "execution_count": 0,
      "outputs": []
    },
    {
      "cell_type": "code",
      "metadata": {
        "id": "fQ_WQiNqP3Cb",
        "colab_type": "code",
        "colab": {}
      },
      "source": [
        ""
      ],
      "execution_count": 0,
      "outputs": []
    },
    {
      "cell_type": "code",
      "metadata": {
        "id": "X2Ci465LcEdd",
        "colab_type": "code",
        "colab": {}
      },
      "source": [
        ""
      ],
      "execution_count": 0,
      "outputs": []
    },
    {
      "cell_type": "code",
      "metadata": {
        "id": "6ndMHhyWcAk9",
        "colab_type": "code",
        "colab": {}
      },
      "source": [
        ""
      ],
      "execution_count": 0,
      "outputs": []
    },
    {
      "cell_type": "code",
      "metadata": {
        "id": "E6A_T9m8bGfy",
        "colab_type": "code",
        "colab": {}
      },
      "source": [
        ""
      ],
      "execution_count": 0,
      "outputs": []
    },
    {
      "cell_type": "code",
      "metadata": {
        "id": "bRi1DIXlP3Cg",
        "colab_type": "code",
        "colab": {}
      },
      "source": [
        "from os import listdir\n",
        "from os.path import isfile, join\n",
        "onlyfiles = [f for f in listdir('/content/drive/My Drive/team7/team7/data/') if isfile(join('/content/drive/My Drive/team7/team7/data/', f))]"
      ],
      "execution_count": 0,
      "outputs": []
    },
    {
      "cell_type": "code",
      "metadata": {
        "id": "7CmtEz0YUWF2",
        "colab_type": "code",
        "colab": {}
      },
      "source": [
        ""
      ],
      "execution_count": 0,
      "outputs": []
    },
    {
      "cell_type": "code",
      "metadata": {
        "id": "cXocSEKfP3Ck",
        "colab_type": "code",
        "colab": {}
      },
      "source": [
        "new_df = train_df\n",
        "j = 0\n",
        "for i in train_df['path']:\n",
        "    #print(i.split(\"/\")[-1])\n",
        "    if i.split(\"/\")[-1] not in onlyfiles:\n",
        "        new_df = new_df.drop(train_df.index[train_df['path'] == i].tolist())\n",
        "        print(\"Dropping\")\n",
        "    else:\n",
        "      j+=1\n",
        "train_df = new_df.reset_index().drop(['index'], axis=1)\n",
        "# All are found"
      ],
      "execution_count": 0,
      "outputs": []
    },
    {
      "cell_type": "code",
      "metadata": {
        "id": "GCkQr124YLqj",
        "colab_type": "code",
        "outputId": "2e0a4c12-e7e3-4bb2-c8d2-5b9489704356",
        "colab": {
          "base_uri": "https://localhost:8080/",
          "height": 419
        }
      },
      "source": [
        "train_df"
      ],
      "execution_count": 19,
      "outputs": [
        {
          "output_type": "execute_result",
          "data": {
            "text/html": [
              "<div>\n",
              "<style scoped>\n",
              "    .dataframe tbody tr th:only-of-type {\n",
              "        vertical-align: middle;\n",
              "    }\n",
              "\n",
              "    .dataframe tbody tr th {\n",
              "        vertical-align: top;\n",
              "    }\n",
              "\n",
              "    .dataframe thead th {\n",
              "        text-align: right;\n",
              "    }\n",
              "</style>\n",
              "<table border=\"1\" class=\"dataframe\">\n",
              "  <thead>\n",
              "    <tr style=\"text-align: right;\">\n",
              "      <th></th>\n",
              "      <th>path</th>\n",
              "      <th>target</th>\n",
              "    </tr>\n",
              "  </thead>\n",
              "  <tbody>\n",
              "    <tr>\n",
              "      <th>0</th>\n",
              "      <td>/content/drive/My Drive/team7/team7/data/B9dZz...</td>\n",
              "      <td>0.112025</td>\n",
              "    </tr>\n",
              "    <tr>\n",
              "      <th>1</th>\n",
              "      <td>/content/drive/My Drive/team7/team7/data/B9cQM...</td>\n",
              "      <td>0.638448</td>\n",
              "    </tr>\n",
              "    <tr>\n",
              "      <th>2</th>\n",
              "      <td>/content/drive/My Drive/team7/team7/data/B9a0I...</td>\n",
              "      <td>0.053981</td>\n",
              "    </tr>\n",
              "    <tr>\n",
              "      <th>3</th>\n",
              "      <td>/content/drive/My Drive/team7/team7/data/B9NnT...</td>\n",
              "      <td>0.143885</td>\n",
              "    </tr>\n",
              "    <tr>\n",
              "      <th>4</th>\n",
              "      <td>/content/drive/My Drive/team7/team7/data/B9XuP...</td>\n",
              "      <td>0.030143</td>\n",
              "    </tr>\n",
              "    <tr>\n",
              "      <th>...</th>\n",
              "      <td>...</td>\n",
              "      <td>...</td>\n",
              "    </tr>\n",
              "    <tr>\n",
              "      <th>1430</th>\n",
              "      <td>/content/drive/My Drive/team7/team7/data/B9M_-...</td>\n",
              "      <td>0.289023</td>\n",
              "    </tr>\n",
              "    <tr>\n",
              "      <th>1431</th>\n",
              "      <td>/content/drive/My Drive/team7/team7/data/B9Wej...</td>\n",
              "      <td>0.917219</td>\n",
              "    </tr>\n",
              "    <tr>\n",
              "      <th>1432</th>\n",
              "      <td>/content/drive/My Drive/team7/team7/data/B9wPR...</td>\n",
              "      <td>0.128363</td>\n",
              "    </tr>\n",
              "    <tr>\n",
              "      <th>1433</th>\n",
              "      <td>/content/drive/My Drive/team7/team7/data/B9Y_f...</td>\n",
              "      <td>0.286299</td>\n",
              "    </tr>\n",
              "    <tr>\n",
              "      <th>1434</th>\n",
              "      <td>/content/drive/My Drive/team7/team7/data/B9Y2f...</td>\n",
              "      <td>0.022442</td>\n",
              "    </tr>\n",
              "  </tbody>\n",
              "</table>\n",
              "<p>1435 rows × 2 columns</p>\n",
              "</div>"
            ],
            "text/plain": [
              "                                                   path    target\n",
              "0     /content/drive/My Drive/team7/team7/data/B9dZz...  0.112025\n",
              "1     /content/drive/My Drive/team7/team7/data/B9cQM...  0.638448\n",
              "2     /content/drive/My Drive/team7/team7/data/B9a0I...  0.053981\n",
              "3     /content/drive/My Drive/team7/team7/data/B9NnT...  0.143885\n",
              "4     /content/drive/My Drive/team7/team7/data/B9XuP...  0.030143\n",
              "...                                                 ...       ...\n",
              "1430  /content/drive/My Drive/team7/team7/data/B9M_-...  0.289023\n",
              "1431  /content/drive/My Drive/team7/team7/data/B9Wej...  0.917219\n",
              "1432  /content/drive/My Drive/team7/team7/data/B9wPR...  0.128363\n",
              "1433  /content/drive/My Drive/team7/team7/data/B9Y_f...  0.286299\n",
              "1434  /content/drive/My Drive/team7/team7/data/B9Y2f...  0.022442\n",
              "\n",
              "[1435 rows x 2 columns]"
            ]
          },
          "metadata": {
            "tags": []
          },
          "execution_count": 19
        }
      ]
    },
    {
      "cell_type": "code",
      "metadata": {
        "id": "0FXui0z5P3Co",
        "colab_type": "code",
        "outputId": "10ed6dcf-e10b-40e0-91cc-3928ae106999",
        "colab": {
          "base_uri": "https://localhost:8080/",
          "height": 34
        }
      },
      "source": [
        "batch_size = 128\n",
        "# this is the augmentation configuration we will use for training\n",
        "train_datagen = ImageDataGenerator(\n",
        "        rescale=1./255,\n",
        "        shear_range=0.1,\n",
        "        zoom_range=0.2,\n",
        "        rotation_range=5,\n",
        "        horizontal_flip=True)\n",
        "\n",
        "# this is the augmentation configuration we will use for testing:\n",
        "# only rescaling\n",
        "test_datagen = ImageDataGenerator(rescale=1./255)\n",
        "\n",
        "# this is a generator that will read pictures found in\n",
        "# subfolers of 'data/train', and indefinitely generate\n",
        "# batches of augmented image data\n",
        "train_generator = train_datagen.flow_from_dataframe(\n",
        "        dataframe=train_df,\n",
        "        x_col = 'path',\n",
        "        y_col = 'target',\n",
        "        directory='data',\n",
        "        target_size=(150, 150),  # all images will be resized to 150x150\n",
        "        batch_size=batch_size,\n",
        "        class_mode='other',\n",
        "       #  preprocessing_function=lambda x: x print(x)\n",
        ")  # since we use binary_crossentropy loss, we need binary labels\n",
        "\n",
        "# this is a similar generator, for validation data\n",
        "#validation_generator = test_datagen.flow_from_directory(\n",
        "#        'data/validation',\n",
        "#        target_size=(150, 150),\n",
        "#        batch_size=batch_size,\n",
        "#        class_mode='binary')"
      ],
      "execution_count": 24,
      "outputs": [
        {
          "output_type": "stream",
          "text": [
            "Found 1435 validated image filenames.\n"
          ],
          "name": "stdout"
        }
      ]
    },
    {
      "cell_type": "code",
      "metadata": {
        "id": "ZNmrLuDwP3Cs",
        "colab_type": "code",
        "outputId": "37bb1bbe-6156-42a3-890f-77fa39c5231a",
        "colab": {
          "base_uri": "https://localhost:8080/",
          "height": 34
        }
      },
      "source": [
        "from tensorflow.python.client import device_lib\n",
        "\n",
        "def get_available_devices():\n",
        "    local_device_protos = device_lib.list_local_devices()\n",
        "    return [x.name for x in local_device_protos]\n",
        "\n",
        "print(get_available_devices())  "
      ],
      "execution_count": 25,
      "outputs": [
        {
          "output_type": "stream",
          "text": [
            "['/device:CPU:0', '/device:XLA_CPU:0', '/device:XLA_GPU:0', '/device:GPU:0']\n"
          ],
          "name": "stdout"
        }
      ]
    },
    {
      "cell_type": "code",
      "metadata": {
        "id": "6nz7BbHkP3Cw",
        "colab_type": "code",
        "colab": {}
      },
      "source": [
        ""
      ],
      "execution_count": 0,
      "outputs": []
    },
    {
      "cell_type": "code",
      "metadata": {
        "id": "qW607DOPZYvy",
        "colab_type": "code",
        "colab": {}
      },
      "source": [
        ""
      ],
      "execution_count": 0,
      "outputs": []
    },
    {
      "cell_type": "code",
      "metadata": {
        "id": "O8UmFzLEZa2E",
        "colab_type": "code",
        "colab": {}
      },
      "source": [
        ""
      ],
      "execution_count": 0,
      "outputs": []
    },
    {
      "cell_type": "code",
      "metadata": {
        "id": "T3BA0SPXP3C0",
        "colab_type": "code",
        "colab": {}
      },
      "source": [
        "my_model.fit(\n",
        "        train_generator,\n",
        "        steps_per_epoch=12800,\n",
        "        epochs=50,\n",
        "        #validation_data=train_generator,\n",
        "        #validation_steps=800 // batch_size)\n",
        "        verbose = 2,\n",
        ")\n",
        "my_model.save_weights('first_try.h5')"
      ],
      "execution_count": 0,
      "outputs": []
    },
    {
      "cell_type": "code",
      "metadata": {
        "id": "Nst9lWXvP3C5",
        "colab_type": "code",
        "colab": {}
      },
      "source": [
        "|"
      ],
      "execution_count": 0,
      "outputs": []
    },
    {
      "cell_type": "code",
      "metadata": {
        "id": "_YYAaayzabOV",
        "colab_type": "code",
        "colab": {}
      },
      "source": [
        ""
      ],
      "execution_count": 0,
      "outputs": []
    }
  ]
}